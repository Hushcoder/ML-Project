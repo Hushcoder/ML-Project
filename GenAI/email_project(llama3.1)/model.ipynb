{
 "cells": [
  {
   "cell_type": "code",
   "execution_count": 2,
   "metadata": {},
   "outputs": [],
   "source": [
    "from langchain_groq import ChatGroq"
   ]
  },
  {
   "cell_type": "code",
   "execution_count": 1,
   "metadata": {},
   "outputs": [
    {
     "name": "stderr",
     "output_type": "stream",
     "text": [
      "/Users/vishal/Documents/GenAI/genai/lib/python3.9/site-packages/urllib3/__init__.py:35: NotOpenSSLWarning: urllib3 v2 only supports OpenSSL 1.1.1+, currently the 'ssl' module is compiled with 'LibreSSL 2.8.3'. See: https://github.com/urllib3/urllib3/issues/3020\n",
      "  warnings.warn(\n"
     ]
    },
    {
     "name": "stdout",
     "output_type": "stream",
     "text": [
      "The first Indian woman officer in the Indian Armed Forces was Captain Lakshmi Sahgal (also known as Lakshmi Swaminathan). However, she was part of the Indian National Army (INA) during World War II.\n",
      "\n",
      "The first Indian woman officer in the regular Indian Armed Forces was Second Lieutenant Kiran Shekhawat, who was commissioned into the Indian Army in 1992.\n"
     ]
    }
   ],
   "source": [
    "llm = ChatGroq(\n",
    "    temperature=0,\n",
    "    groq_api_key='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',\n",
    "    model_name='llama-3.1-70b-versatile'\n",
    ")\n",
    "# invoke to use llm\n",
    "output_response = llm.invoke(\"The first Indian woman Officer\")\n",
    "print(output_response.content)"
   ]
  },
  {
   "cell_type": "code",
   "execution_count": 7,
   "metadata": {},
   "outputs": [],
   "source": [
    "from langchain_community.document_loaders import WebBaseLoader\n",
    "\n",
    "loader = WebBaseLoader(\"https://jobs.nike.com/job/R-34397?from=job%20search%20funnel\")\n",
    "page_data = loader.load().pop().page_content"
   ]
  },
  {
   "cell_type": "code",
   "execution_count": 8,
   "metadata": {},
   "outputs": [
    {
     "name": "stdout",
     "output_type": "stream",
     "text": [
      "Apply for LEAD, GLOBAL PROCUREMENT OUTBOUND MIDDLE MILE CATEGORY MANAGER\n",
      "\n",
      "Search JobsSkip navigationSearch JobsNIKE, INC. JOBSContract JobsJoin The Talent CommunityLife @ NikeOverviewBenefitsBrandsOverviewJordanConverseTeamsOverviewAdministrative SupportAdvanced InnovationAir Manufacturing InnovationAviationCommunicationsCustomer ServiceDesignDigitalFacilitiesFinance & AccountingGovernment & Public AffairsHuman ResourcesInsights & AnalyticsLegalManufacturing & EngineeringMarketingMerchandisingPlanningPrivacyProcurementProduct Creation, Development & ManagementRetail CorporateRetail StoresSalesSocial & Community ImpactSports MarketingStrategic PlanningSupply Chain, Distribution & LogisticsSustainabilityTechnologyLocationsOverviewNike WHQNike New York HQEHQ: Hilversum, The NetherlandsELC: Laakdal, BelgiumGreater China HQDiversity, Equity & InclusionOverviewMilitary InclusionDisability InclusionIndigenous InclusionInternshipsProcurementLEAD, GLOBAL PROCUREMENT OUTBOUND MIDDLE MILE CATEGORY MANAGERBeaverton, OregonBecome a Part of the NIKE, Inc. TeamNIKE, Inc. does more than outfit the world’s best athletes. It is a place to explore potential, obliterate boundaries and push out the edges of what can be. The company looks for people who can grow, think, dream and create. Its culture thrives by embracing diversity and rewarding imagination. The brand seeks achievers, leaders and visionaries. At NIKE, Inc. it’s about each person bringing skills and passion to a challenging and constantly evolving game.NIKE, Inc.’s relentless pursuit of product innovation and sustainable growth demands bold new ways of doing business – including supplier engagement. Stretching far beyond conventional sourcing, Nike Procurement secures the best supplier relationships to drive business success. The team maximizes the value and reach of the company’s investments in external resources, including product materials, marketing services, digital tools, temporary labor, high-tech manufacturing equipment and other products and services to fuel business growth and sustainability.Who are we looking forWe are looking for a Category Lead to join the Global Procurement team to manage and source our global spend in Inbound Middle Mile Transportation!You will be part of a team of category leads, sourcing managers and analysts supporting Nike’s key geographies of North America (NA), Asia Pacific & Latin America (APLA), Greater China (GC), Europe, Middle East and Asia (EMEA) and Global (Center). Your will use your supply chain and transportation category knowledge to focus on optimizing Nike’s global sourcing and partnership opportunities. This role reports into the Global Procurement Supply Chain Director for Outbound Transportation.You with work with collaborators and partners to deliver the best solutions and optimize our spend within the Nike to store and customer transportation categories. Outbound emphasis will be on Full Truckload (FTL), Less-Than-Truckload (LTL), Drayage, Pool Point, Small Parcel, and Intermodal. You will lead with strategy and building relationships at front of mind.What will you work onThe Lead, Global Outbound Middle Mile Category Sourcing Manager will be responsible for the transportation modes of transportation of Outbound from DC to retail/ wholesale customers aka stores and partners.You will collaborate with both global teams and in-geo internal business partners on Category Management to meet business objectives. You will work to prioritize the pipeline of spend areas to address and jointly identify in-year/multi-year opportunities initiatives. You will lead a multi-year category strategy development within outbound transportation categories.You will advance Strategic Sourcing initiatives to capture value across cost, capacity, sustainability, and service. This will be based on overall Nike and Global Procurement objectives, supply market dynamics, and rigorous Total Cost Ownership (TCO) analytics while using Strategic Sourcing processes including market analysis, strategy development, competitive bidding (RFx), and supplier negotiations.In addition, you will drive Contract Services by partnering with Legal to ensure seamless experience for both geo and suppliers. This will include creating contracting documents while improving operational and financial performance through risk management.Your experience in transportation processes, market intelligence and understanding of the FTL, LTL, Pool Point, Small Parcel and Intermodal landscapes, knowledge of transportation provider processes, and familiarity with carrier cost components and sourcing tools and technology should help influence and develop suppliers to deliver on Nike Capabilities and drive value.Who will you work withBusiness partner engagement is critical at Nike. You will be responsible for leading and fostering key relationships with both internal partners (Operations, Finance, Legal, Security, Compliance, Programming) and external suppliers.Impact on these areas and any initiatives will be global with a focus in the NA, APLA, GC, EMEA and Center.What you bringBachelor’s degree or equivalent combination of education, experience or training6+ years work experience in Procurement and/or Transportation, with a focus on Category management and/or Strategic Sourcing with expertise in transportation for consumer goods or retailDeep understanding of the transportation market and modes of transportation. Key categories include: Full Truckload, Less-Than-Truckload, Pool Point, Drayage, Intermodal and Small ParcelDeep understanding of P&L for a logistics service providerExperience with clean sheet should cost modeling and negotiation methodologyTotal Cost of Ownership approach to spend managementRigorous cost savings approaches and analytics, with expertise in total delivered costFamiliarity with product management and development approaches, including consumer insights and competitive product analysisExperience working cross-culturally on global categories, with leadership, influencing and communication skills gained across a range of cultural environmentsTrack record managing business partners and relationships (Carriers and/or SRM)Project management, presentation and influencing skills and the ability to interact with management (including developing action plans, identifying deliverables, and presenting results)Certified Purchasing Manager (CPM) or similar internationally accredited qualification is preferredStrong project management, including developing action plans, identifying deliverables and presenting resultsExperience with Procurement technology/ e-Sourcing tools (i.e., Jaggaer) is a plusMust be willing to travel (up to 10%)We will ensure that individuals with disabilities are provided reasonable accommodation to participate in the job application or interview process, to perform essential job functions, and to receive other benefits and privileges of employment. Please contact us to request accommodation.NIKE, Inc. is a growth company that looks for team members to grow with it. Nike offers a generous total rewards package, casual work environment, a diverse and inclusive culture, and an electric atmosphere for professional development. No matter the location, or the role, every Nike employee shares one galvanizing mission: To bring inspiration and innovation to every athlete* in the world.NIKE, Inc. is committed to employing a diverse workforce. Qualified applicants will receive consideration without regard to race, color, religion, sex, national origin, age, sexual orientation, gender identity, gender expression, veteran status, or disability.How We HireAt NIKE, Inc. we promise to provide a premium, inclusive, compelling and authentic candidate experience. Delivering on this promise means we allow you to be at your best — and to do that, you need to understand how the hiring process works. Transparency is key.\n",
      "\n",
      "* This overview explains our hiring process for corporate roles. Note there may be different hiring steps involved for non-corporate roles.Start nowBenefitsWhether it’s transportation or financial health, we continually invest in our employees to help them achieve greatness — inside and outside of work. All who work here should be able to realize their full potential.Employee Assistance ProgramEmployee Stock Purchase Plan (ESPP)HolidaysMedical PlanPaid Time Off (PTO)Product DiscountsSabbaticalsLearn moreFIND A STOREBECOME A MEMBERSIGN UP FOR EMAILSEND US FEEDBACKSTUDENT DISCOUNTSGET HELPGET HELPOrder StatusDeliveryReturnsPayment OptionsContact Us On Nike.com InquiriesContact Us On All Other InquiriesABOUT NIKEABOUT NIKENewsCareersInvestorsSustainabilityIndia© 2024 Nike, Inc. All Rights ReservedGuidesNike AdaptNike Air MaxNike FlyleatherNike PegasusNike Zoom FlyNike AirNike FlyEaseNike FreeNike ReactNike ZoomXNike Air Force 1Nike FlyknitNike JoyrideNike VaporflyTerms of SaleTerms of UseNike Privacy Policy\n"
     ]
    }
   ],
   "source": [
    "print(page_data)"
   ]
  },
  {
   "cell_type": "code",
   "execution_count": 9,
   "metadata": {},
   "outputs": [],
   "source": [
    "from langchain_core.prompts import PromptTemplate\n",
    "\n",
    "prompt_extract = PromptTemplate.from_template(\n",
    "    '''\n",
    "    ### SCRAPED TEXT FROM WEBSITE: \n",
    "    {page_data}\n",
    "    ### INSTRUCTION:\n",
    "    The scraped text is from the career's page of a website.\n",
    "    Your job is to extract the job postings nd return them in JSON format containing following keys : \n",
    "    'role','skills' and 'description'.\n",
    "    Only return the valid JSON. \n",
    "    ### VALID JSON (NO PREAMBLE):\n",
    "    '''\n",
    ")\n",
    "\n",
    "# prompt passing to llm\n",
    "chain_prompt = prompt_extract | llm\n",
    "response = chain_prompt.invoke(input={'page_data':page_data})"
   ]
  },
  {
   "cell_type": "code",
   "execution_count": 11,
   "metadata": {},
   "outputs": [
    {
     "name": "stdout",
     "output_type": "stream",
     "text": [
      "```\n",
      "{\n",
      "  \"role\": \"LEAD, GLOBAL PROCUREMENT OUTBOUND MIDDLE MILE CATEGORY MANAGER\",\n",
      "  \"skills\": [\n",
      "    \"Bachelor’s degree or equivalent combination of education, experience or training\",\n",
      "    \"6+ years work experience in Procurement and/or Transportation, with a focus on Category management and/or Strategic Sourcing with expertise in transportation for consumer goods or retail\",\n",
      "    \"Deep understanding of the transportation market and modes of transportation. Key categories include: Full Truckload, Less-Than-Truckload, Pool Point, Drayage, Intermodal and Small Parcel\",\n",
      "    \"Deep understanding of P&L for a logistics service provider\",\n",
      "    \"Experience with clean sheet should cost modeling and negotiation methodology\",\n",
      "    \"Total Cost of Ownership approach to spend management\",\n",
      "    \"Rigorous cost savings approaches and analytics, with expertise in total delivered cost\",\n",
      "    \"Familiarity with product management and development approaches, including consumer insights and competitive product analysis\",\n",
      "    \"Experience working cross-culturally on global categories, with leadership, influencing and communication skills gained across a range of cultural environments\",\n",
      "    \"Track record managing business partners and relationships (Carriers and/or SRM)\",\n",
      "    \"Project management, presentation and influencing skills and the ability to interact with management (including developing action plans, identifying deliverables, and presenting results)\",\n",
      "    \"Certified Purchasing Manager (CPM) or similar internationally accredited qualification is preferred\",\n",
      "    \"Strong project management, including developing action plans, identifying deliverables and presenting results\",\n",
      "    \"Experience with Procurement technology/ e-Sourcing tools (i.e., Jaggaer) is a plus\"\n",
      "  ],\n",
      "  \"description\": \"The Lead, Global Outbound Middle Mile Category Sourcing Manager will be responsible for the transportation modes of transportation of Outbound from DC to retail/ wholesale customers aka stores and partners. You will collaborate with both global teams and in-geo internal business partners on Category Management to meet business objectives. You will work to prioritize the pipeline of spend areas to address and jointly identify in-year/multi-year opportunities initiatives. You will lead a multi-year category strategy development within outbound transportation categories. You will advance Strategic Sourcing initiatives to capture value across cost, capacity, sustainability, and service.\"\n",
      "}\n",
      "```\n"
     ]
    }
   ],
   "source": [
    "print(response.content)"
   ]
  },
  {
   "cell_type": "code",
   "execution_count": 14,
   "metadata": {},
   "outputs": [],
   "source": [
    "from langchain_core.output_parsers import JsonOutputParser\n",
    "json_parser = JsonOutputParser()\n",
    "json_response = json_parser.parse(response.content)"
   ]
  },
  {
   "cell_type": "code",
   "execution_count": 15,
   "metadata": {},
   "outputs": [
    {
     "data": {
      "text/plain": [
       "{'role': 'LEAD, GLOBAL PROCUREMENT OUTBOUND MIDDLE MILE CATEGORY MANAGER',\n",
       " 'skills': ['Bachelor’s degree or equivalent combination of education, experience or training',\n",
       "  '6+ years work experience in Procurement and/or Transportation, with a focus on Category management and/or Strategic Sourcing with expertise in transportation for consumer goods or retail',\n",
       "  'Deep understanding of the transportation market and modes of transportation. Key categories include: Full Truckload, Less-Than-Truckload, Pool Point, Drayage, Intermodal and Small Parcel',\n",
       "  'Deep understanding of P&L for a logistics service provider',\n",
       "  'Experience with clean sheet should cost modeling and negotiation methodology',\n",
       "  'Total Cost of Ownership approach to spend management',\n",
       "  'Rigorous cost savings approaches and analytics, with expertise in total delivered cost',\n",
       "  'Familiarity with product management and development approaches, including consumer insights and competitive product analysis',\n",
       "  'Experience working cross-culturally on global categories, with leadership, influencing and communication skills gained across a range of cultural environments',\n",
       "  'Track record managing business partners and relationships (Carriers and/or SRM)',\n",
       "  'Project management, presentation and influencing skills and the ability to interact with management (including developing action plans, identifying deliverables, and presenting results)',\n",
       "  'Certified Purchasing Manager (CPM) or similar internationally accredited qualification is preferred',\n",
       "  'Strong project management, including developing action plans, identifying deliverables and presenting results',\n",
       "  'Experience with Procurement technology/ e-Sourcing tools (i.e., Jaggaer) is a plus'],\n",
       " 'description': 'The Lead, Global Outbound Middle Mile Category Sourcing Manager will be responsible for the transportation modes of transportation of Outbound from DC to retail/ wholesale customers aka stores and partners. You will collaborate with both global teams and in-geo internal business partners on Category Management to meet business objectives. You will work to prioritize the pipeline of spend areas to address and jointly identify in-year/multi-year opportunities initiatives. You will lead a multi-year category strategy development within outbound transportation categories. You will advance Strategic Sourcing initiatives to capture value across cost, capacity, sustainability, and service.'}"
      ]
     },
     "execution_count": 15,
     "metadata": {},
     "output_type": "execute_result"
    }
   ],
   "source": [
    "json_response"
   ]
  },
  {
   "cell_type": "code",
   "execution_count": 17,
   "metadata": {},
   "outputs": [
    {
     "data": {
      "text/html": [
       "<div>\n",
       "<style scoped>\n",
       "    .dataframe tbody tr th:only-of-type {\n",
       "        vertical-align: middle;\n",
       "    }\n",
       "\n",
       "    .dataframe tbody tr th {\n",
       "        vertical-align: top;\n",
       "    }\n",
       "\n",
       "    .dataframe thead th {\n",
       "        text-align: right;\n",
       "    }\n",
       "</style>\n",
       "<table border=\"1\" class=\"dataframe\">\n",
       "  <thead>\n",
       "    <tr style=\"text-align: right;\">\n",
       "      <th></th>\n",
       "      <th>TechStack</th>\n",
       "      <th>Portfolio_links</th>\n",
       "    </tr>\n",
       "  </thead>\n",
       "  <tbody>\n",
       "    <tr>\n",
       "      <th>0</th>\n",
       "      <td>Backend</td>\n",
       "      <td>https://behance.net/user1</td>\n",
       "    </tr>\n",
       "    <tr>\n",
       "      <th>1</th>\n",
       "      <td>Go</td>\n",
       "      <td>https://behance.net/user2</td>\n",
       "    </tr>\n",
       "    <tr>\n",
       "      <th>2</th>\n",
       "      <td>DevOps</td>\n",
       "      <td>https://medium.com/user3</td>\n",
       "    </tr>\n",
       "    <tr>\n",
       "      <th>3</th>\n",
       "      <td>Laravel</td>\n",
       "      <td>https://dribbble.com/user4</td>\n",
       "    </tr>\n",
       "    <tr>\n",
       "      <th>4</th>\n",
       "      <td>HTML/CSS</td>\n",
       "      <td>https://medium.com/user5</td>\n",
       "    </tr>\n",
       "  </tbody>\n",
       "</table>\n",
       "</div>"
      ],
      "text/plain": [
       "  TechStack             Portfolio_links\n",
       "0   Backend   https://behance.net/user1\n",
       "1        Go   https://behance.net/user2\n",
       "2    DevOps    https://medium.com/user3\n",
       "3   Laravel  https://dribbble.com/user4\n",
       "4  HTML/CSS    https://medium.com/user5"
      ]
     },
     "execution_count": 17,
     "metadata": {},
     "output_type": "execute_result"
    }
   ],
   "source": [
    "import pandas as pd \n",
    "\n",
    "df = pd.read_csv(\"tech_portfolios.csv\")\n",
    "df.head()\n"
   ]
  },
  {
   "cell_type": "code",
   "execution_count": 18,
   "metadata": {},
   "outputs": [],
   "source": [
    "import chromadb\n",
    "\n",
    "# Using PersistentClient to create db on disc , Client creates it in memory.\n",
    "client = chromadb.PersistentClient('vector_store')\n",
    "collection = client.get_or_create_collection(name='portfolio')\n",
    "\n",
    "if not collection.count:\n",
    "   for _, row in df.iterrows():\n",
    "      collection.add(\n",
    "         documents = row['TechStack'],\n",
    "         metadatas = {\"links\":row['Portfolio_links']},\n",
    "         ids = [str(uuid.uuid4())]\n",
    "      )"
   ]
  },
  {
   "cell_type": "code",
   "execution_count": 27,
   "metadata": {},
   "outputs": [
    {
     "data": {
      "text/plain": [
       "[[], []]"
      ]
     },
     "execution_count": 27,
     "metadata": {},
     "output_type": "execute_result"
    }
   ],
   "source": [
    "links = collection.query(query_texts=['Backend', 'HTML/CSS'],n_results=2).get('metadatas',[])\n",
    "links"
   ]
  },
  {
   "cell_type": "code",
   "execution_count": 22,
   "metadata": {},
   "outputs": [
    {
     "data": {
      "text/plain": [
       "['Bachelor’s degree or equivalent combination of education, experience or training',\n",
       " '6+ years work experience in Procurement and/or Transportation, with a focus on Category management and/or Strategic Sourcing with expertise in transportation for consumer goods or retail',\n",
       " 'Deep understanding of the transportation market and modes of transportation. Key categories include: Full Truckload, Less-Than-Truckload, Pool Point, Drayage, Intermodal and Small Parcel',\n",
       " 'Deep understanding of P&L for a logistics service provider',\n",
       " 'Experience with clean sheet should cost modeling and negotiation methodology',\n",
       " 'Total Cost of Ownership approach to spend management',\n",
       " 'Rigorous cost savings approaches and analytics, with expertise in total delivered cost',\n",
       " 'Familiarity with product management and development approaches, including consumer insights and competitive product analysis',\n",
       " 'Experience working cross-culturally on global categories, with leadership, influencing and communication skills gained across a range of cultural environments',\n",
       " 'Track record managing business partners and relationships (Carriers and/or SRM)',\n",
       " 'Project management, presentation and influencing skills and the ability to interact with management (including developing action plans, identifying deliverables, and presenting results)',\n",
       " 'Certified Purchasing Manager (CPM) or similar internationally accredited qualification is preferred',\n",
       " 'Strong project management, including developing action plans, identifying deliverables and presenting results',\n",
       " 'Experience with Procurement technology/ e-Sourcing tools (i.e., Jaggaer) is a plus']"
      ]
     },
     "execution_count": 22,
     "metadata": {},
     "output_type": "execute_result"
    }
   ],
   "source": [
    "job = json_response\n",
    "json_response['skills']"
   ]
  },
  {
   "cell_type": "code",
   "execution_count": 29,
   "metadata": {},
   "outputs": [],
   "source": [
    "from langchain_core.prompts import PromptTemplate\n",
    "\n",
    "prompt_extract = PromptTemplate.from_template(\n",
    "    '''\n",
    "    ### SCRAPED TEXT FROM WEBSITE: \n",
    "    {job_description}\n",
    "    ### INSTRUCTION:\n",
    "    You are Keshav, a business development executive at Microsoft. Microsoft is an service based company that provides assets in form of services\n",
    "    and products be it Hardware or Software. Over our experience we have empowered numerous enterprises ith tailored solutions.Your job is to write a cold \n",
    "    email to the client regarding he job mentioned above in fulfilling their needs.\n",
    "    Also add the most relevant ones from the following links to showcase Microsoft's portfolio : {link_list}\n",
    "    Remember You are Keshav , BDE at Microsoft.\n",
    "    Do not provide a preamble.\n",
    "    ### EMAIL (NO PREAMBLE):\n",
    "    '''\n",
    ")\n",
    "\n",
    "chain_email = prompt_extract | llm\n",
    "response_cold_email = chain_email.invoke(input={'job_description':str(job),'link_list':links})"
   ]
  },
  {
   "cell_type": "code",
   "execution_count": 30,
   "metadata": {},
   "outputs": [
    {
     "name": "stdout",
     "output_type": "stream",
     "text": [
      "Subject: Unlock Efficient Global Procurement with Microsoft Solutions\n",
      "\n",
      "Dear [Hiring Manager's Name],\n",
      "\n",
      "I came across the job posting for the Lead, Global Procurement Outbound Middle Mile Category Manager role and was impressed by the organization's commitment to strategic sourcing and category management. As a Business Development Executive at Microsoft, I'd like to introduce you to our suite of solutions that can help your team streamline procurement processes, drive cost savings, and enhance collaboration.\n",
      "\n",
      "Our Azure-based procurement solutions, such as Azure Supply Chain Platform and Dynamics 365 Supply Chain Management, can help you:\n",
      "\n",
      "* Optimize transportation modes and routes with advanced analytics and AI-powered insights\n",
      "* Automate procurement workflows and improve supplier management with Azure-based e-Sourcing tools\n",
      "* Enhance collaboration and visibility across global teams with Microsoft Teams and Power BI\n",
      "* Develop a Total Cost of Ownership approach to spend management with our advanced analytics capabilities\n",
      "\n",
      "Our solutions have helped numerous enterprises, such as [Maersk](https://customers.microsoft.com/en-us/story/maersk) and [DHL](https://customers.microsoft.com/en-us/story/dhl), to transform their supply chain and procurement operations.\n",
      "\n",
      "I'd love to schedule a call to discuss how Microsoft's solutions can support your organization's procurement goals and objectives. Please let me know if you're available for a quick call this week.\n",
      "\n",
      "Best regards,\n",
      "\n",
      "Keshav\n",
      "Business Development Executive\n",
      "Microsoft\n"
     ]
    }
   ],
   "source": [
    "print(response_cold_email.content)"
   ]
  },
  {
   "cell_type": "code",
   "execution_count": null,
   "metadata": {},
   "outputs": [],
   "source": []
  }
 ],
 "metadata": {
  "kernelspec": {
   "display_name": "genai",
   "language": "python",
   "name": "python3"
  },
  "language_info": {
   "codemirror_mode": {
    "name": "ipython",
    "version": 3
   },
   "file_extension": ".py",
   "mimetype": "text/x-python",
   "name": "python",
   "nbconvert_exporter": "python",
   "pygments_lexer": "ipython3",
   "version": "3.9.6"
  }
 },
 "nbformat": 4,
 "nbformat_minor": 2
}
